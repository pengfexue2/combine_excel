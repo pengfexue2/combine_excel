{
 "cells": [
  {
   "cell_type": "code",
   "execution_count": 1,
   "metadata": {},
   "outputs": [
    {
     "name": "stdout",
     "output_type": "stream",
     "text": [
      "   序号   岗位名称  所属公司      所属部门 上级岗位名称 下级岗位名称  现有编制  目标编制 是否管理岗  加编理由\n",
      "0   1    副部长  XX公司     党群人力部     部长      0     1     0     是     0\n",
      "1   2    人力岗  XX公司  党群人力部-人事    副部长      0     1     1     否     0\n",
      "2   3  薪酬绩效岗  XX公司  党群人力部-人事    副部长      0     1     1     是     0\n",
      "3   4  培训管理岗  XX公司     党群人力部    副部长      0     1     1     是     0\n",
      "4   5   党建管理  XX公司  党群人力部-党建     部长      /     1     1     否     0\n"
     ]
    }
   ],
   "source": [
    "import pandas as pd\n",
    "\n",
    "# 先获取要合并的表格名称，由于涉及编码，尽量用字母+数字组合的名称，避免中文名称导致的编码格式问题\n",
    "name_a = \"表A.xlsx\"\n",
    "\n",
    "# 使用导入的 pandas 简写为 pd 来读取 excel 表格\n",
    "table_a = pd.read_excel(name_a)\n",
    "\n",
    "print(table_a)"
   ]
  },
  {
   "cell_type": "code",
   "execution_count": 2,
   "metadata": {},
   "outputs": [
    {
     "name": "stdout",
     "output_type": "stream",
     "text": [
      "   序号     岗位名称  所属公司      所属部门   上级岗位名称 下级岗位名称  现有编制  目标编制 是否管理岗 加编理由\n",
      "0   1    党建培训岗  XX公司  党群人力部-党建  党群人力部部长      无     1     1     是    0\n",
      "1   2     工会干事  XX公司     党群人力部       部长      无     1     1     否    无\n",
      "2   3     群团管理  XX公司     党群人力部   部长、副部长      无     2     2     否    0\n",
      "3   4  招聘培训管理岗  XX公司     党群人力部       部长      0     1     2     是    略\n"
     ]
    }
   ],
   "source": [
    "# 先获取要合并的表格名称，由于涉及编码，尽量用字母+数字组合的名称，避免中文名称导致的编码格式问题\n",
    "name_b = \"表B.xlsx\"\n",
    "\n",
    "# 使用导入的 pandas 简写为 pd 来读取 excel 表格\n",
    "table_b = pd.read_excel(name_b)\n",
    "\n",
    "print(table_b)"
   ]
  },
  {
   "cell_type": "code",
   "execution_count": 3,
   "metadata": {},
   "outputs": [
    {
     "name": "stdout",
     "output_type": "stream",
     "text": [
      "   序号     岗位名称  所属公司      所属部门   上级岗位名称 下级岗位名称  现有编制  目标编制 是否管理岗 加编理由\n",
      "0   1      副部长  XX公司     党群人力部       部长      0     1     0     是    0\n",
      "1   2      人力岗  XX公司  党群人力部-人事      副部长      0     1     1     否    0\n",
      "2   3    薪酬绩效岗  XX公司  党群人力部-人事      副部长      0     1     1     是    0\n",
      "3   4    培训管理岗  XX公司     党群人力部      副部长      0     1     1     是    0\n",
      "4   5     党建管理  XX公司  党群人力部-党建       部长      /     1     1     否    0\n",
      "0   1    党建培训岗  XX公司  党群人力部-党建  党群人力部部长      无     1     1     是    0\n",
      "1   2     工会干事  XX公司     党群人力部       部长      无     1     1     否    无\n",
      "2   3     群团管理  XX公司     党群人力部   部长、副部长      无     2     2     否    0\n",
      "3   4  招聘培训管理岗  XX公司     党群人力部       部长      0     1     2     是    略\n"
     ]
    }
   ],
   "source": [
    "# 将两表纵向合并\n",
    "result = pd.concat([table_a,table_b])\n",
    "\n",
    "print(result)"
   ]
  },
  {
   "cell_type": "code",
   "execution_count": 4,
   "metadata": {},
   "outputs": [
    {
     "name": "stdout",
     "output_type": "stream",
     "text": [
      "   序号     岗位名称  所属公司      所属部门   上级岗位名称 下级岗位名称  现有编制  目标编制 是否管理岗 加编理由\n",
      "0   1      副部长  XX公司     党群人力部       部长      0     1     0     是    0\n",
      "1   2      人力岗  XX公司  党群人力部-人事      副部长      0     1     1     否    0\n",
      "2   3    薪酬绩效岗  XX公司  党群人力部-人事      副部长      0     1     1     是    0\n",
      "3   4    培训管理岗  XX公司     党群人力部      副部长      0     1     1     是    0\n",
      "4   5     党建管理  XX公司  党群人力部-党建       部长      /     1     1     否    0\n",
      "5   1    党建培训岗  XX公司  党群人力部-党建  党群人力部部长      无     1     1     是    0\n",
      "6   2     工会干事  XX公司     党群人力部       部长      无     1     1     否    无\n",
      "7   3     群团管理  XX公司     党群人力部   部长、副部长      无     2     2     否    0\n",
      "8   4  招聘培训管理岗  XX公司     党群人力部       部长      0     1     2     是    略\n"
     ]
    }
   ],
   "source": [
    "# 合并后数据的 index 索引需要重置\n",
    "# 参数中 drop=True 指放弃旧的 index,否则旧 index 会出现在表中；inplace=True 重置行为直接修改在本数据结构中\n",
    "result.reset_index(drop=True,inplace=True)\n",
    "\n",
    "print(result)"
   ]
  },
  {
   "cell_type": "code",
   "execution_count": 5,
   "metadata": {},
   "outputs": [
    {
     "name": "stdout",
     "output_type": "stream",
     "text": [
      "   序号     岗位名称  所属公司      所属部门   上级岗位名称 下级岗位名称  现有编制  目标编制 是否管理岗 加编理由\n",
      "0   1      副部长  XX公司     党群人力部       部长      0     1     0     是    0\n",
      "1   2      人力岗  XX公司  党群人力部-人事      副部长      0     1     1     否    0\n",
      "2   3    薪酬绩效岗  XX公司  党群人力部-人事      副部长      0     1     1     是    0\n",
      "3   4    培训管理岗  XX公司     党群人力部      副部长      0     1     1     是    0\n",
      "4   5     党建管理  XX公司  党群人力部-党建       部长      /     1     1     否    0\n",
      "5   6    党建培训岗  XX公司  党群人力部-党建  党群人力部部长      无     1     1     是    0\n",
      "6   7     工会干事  XX公司     党群人力部       部长      无     1     1     否    无\n",
      "7   8     群团管理  XX公司     党群人力部   部长、副部长      无     2     2     否    0\n",
      "8   9  招聘培训管理岗  XX公司     党群人力部       部长      0     1     2     是    略\n"
     ]
    }
   ],
   "source": [
    "# 新合并后 \"序号\" 列内的数字需更新\n",
    "result[\"序号\"]=range(1,len(result)+1)\n",
    "\n",
    "print(result)"
   ]
  },
  {
   "cell_type": "code",
   "execution_count": 6,
   "metadata": {},
   "outputs": [
    {
     "name": "stdout",
     "output_type": "stream",
     "text": [
      "表A.xlsx 和 表B.xlsx 合并完毕！\n"
     ]
    }
   ],
   "source": [
    "# 将合并后的数据保存为 result1.xlsx 表格，名字可以修改，index=False 表示不将数据结构中的 index 加入表中\n",
    "result.to_excel(\"result1.xlsx\",index=False)\n",
    "\n",
    "print(f\"{name_a} 和 {name_b} 合并完毕！\")"
   ]
  },
  {
   "cell_type": "code",
   "execution_count": null,
   "metadata": {},
   "outputs": [],
   "source": []
  }
 ],
 "metadata": {
  "kernelspec": {
   "display_name": "Python 3",
   "language": "python",
   "name": "python3"
  },
  "language_info": {
   "codemirror_mode": {
    "name": "ipython",
    "version": 3
   },
   "file_extension": ".py",
   "mimetype": "text/x-python",
   "name": "python",
   "nbconvert_exporter": "python",
   "pygments_lexer": "ipython3",
   "version": "3.7.3"
  }
 },
 "nbformat": 4,
 "nbformat_minor": 2
}
