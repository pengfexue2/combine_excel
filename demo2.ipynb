{
 "cells": [
  {
   "cell_type": "code",
   "execution_count": 1,
   "metadata": {},
   "outputs": [
    {
     "name": "stdout",
     "output_type": "stream",
     "text": [
      "   序号  所属公司      所属部门\n",
      "0   1  XX公司     党群人力部\n",
      "1   2  XX公司  党群人力部-人事\n",
      "2   3  XX公司  党群人力部-人事\n",
      "3   4  XX公司     党群人力部\n",
      "4   5  XX公司  党群人力部-党建\n",
      "======================================\n",
      "   序号   岗位名称  所属公司 上级岗位名称\n",
      "0   1    副部长  XX公司     部长\n",
      "1   2    人力岗  XX公司    副部长\n",
      "2   3  薪酬绩效岗  XX公司    副部长\n",
      "3   4  培训管理岗  XX公司    副部长\n",
      "4   5   党建管理  XX公司     部长\n"
     ]
    }
   ],
   "source": [
    "import pandas as pd\n",
    "\n",
    "\n",
    "# 先获取要合并的表格名称，由于涉及编码，尽量用字母+数字组合的名称，避免中文名称导致的编码格式问题\n",
    "name_a = \"表C.xlsx\"\n",
    "name_b = \"表D.xlsx\"\n",
    "\n",
    "# 使用导入的 pandas 简写为 pd 来读取 excel 表格\n",
    "table_a = pd.read_excel(name_a)\n",
    "table_b = pd.read_excel(name_b)\n",
    "\n",
    "print(table_a)\n",
    "print(\"======================================\")\n",
    "print(table_b)"
   ]
  },
  {
   "cell_type": "code",
   "execution_count": 2,
   "metadata": {},
   "outputs": [
    {
     "name": "stdout",
     "output_type": "stream",
     "text": [
      "0       党群人力部\n",
      "1    党群人力部-人事\n",
      "2    党群人力部-人事\n",
      "3       党群人力部\n",
      "4    党群人力部-党建\n",
      "Name: 所属部门, dtype: object\n"
     ]
    }
   ],
   "source": [
    "# 通过数据格式.iloc[行，列]的形式来提取某行某列，取第x列=iloc[所有行，x]=iloc[:,x]\n",
    "# 此处取表 C 的第 C 列（数据结构中序列从0开始，A列-0，B列-1，C列-2）\n",
    "part_a = table_a.iloc[:,2]\n",
    "\n",
    "print(part_a)"
   ]
  },
  {
   "cell_type": "code",
   "execution_count": 3,
   "metadata": {},
   "outputs": [
    {
     "name": "stdout",
     "output_type": "stream",
     "text": [
      "   序号   岗位名称\n",
      "0   1    副部长\n",
      "1   2    人力岗\n",
      "2   3  薪酬绩效岗\n",
      "3   4  培训管理岗\n",
      "4   5   党建管理\n"
     ]
    }
   ],
   "source": [
    "# 取特定 m,n 列时通过 .iloc[:,[m,n]];若连续取第x到y列还可以 .iloc[:,x:y]\n",
    "# 此处取表 D 的 A、B 列\n",
    "part_b = table_b.iloc[:,[0,1]]\n",
    "\n",
    "print(part_b)"
   ]
  },
  {
   "cell_type": "code",
   "execution_count": 4,
   "metadata": {},
   "outputs": [
    {
     "name": "stdout",
     "output_type": "stream",
     "text": [
      "   序号   岗位名称      所属部门\n",
      "0   1    副部长     党群人力部\n",
      "1   2    人力岗  党群人力部-人事\n",
      "2   3  薪酬绩效岗  党群人力部-人事\n",
      "3   4  培训管理岗     党群人力部\n",
      "4   5   党建管理  党群人力部-党建\n"
     ]
    }
   ],
   "source": [
    "# 将取出的两部分通过 pd.concat([x,y],axis=1) 合并，此处 axis=1 表示沿列方向合并\n",
    "result = pd.concat([part_b,part_a],axis=1)\n",
    "\n",
    "print(result)"
   ]
  },
  {
   "cell_type": "code",
   "execution_count": 5,
   "metadata": {},
   "outputs": [
    {
     "name": "stdout",
     "output_type": "stream",
     "text": [
      "表C.xlsx 和 表D.xlsx 合并完毕！\n"
     ]
    }
   ],
   "source": [
    "# 将表格导出保存，index=False 表示不将数据结构中的 index 加入表中\n",
    "result.to_excel(\"result2.xlsx\",index=False)\n",
    "\n",
    "print(f\"{name_a} 和 {name_b} 合并完毕！\")"
   ]
  },
  {
   "cell_type": "code",
   "execution_count": null,
   "metadata": {},
   "outputs": [],
   "source": []
  }
 ],
 "metadata": {
  "kernelspec": {
   "display_name": "Python 3",
   "language": "python",
   "name": "python3"
  },
  "language_info": {
   "codemirror_mode": {
    "name": "ipython",
    "version": 3
   },
   "file_extension": ".py",
   "mimetype": "text/x-python",
   "name": "python",
   "nbconvert_exporter": "python",
   "pygments_lexer": "ipython3",
   "version": "3.7.3"
  }
 },
 "nbformat": 4,
 "nbformat_minor": 2
}
